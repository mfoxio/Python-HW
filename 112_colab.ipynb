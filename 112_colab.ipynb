{
  "nbformat": 4,
  "nbformat_minor": 0,
  "metadata": {
    "colab": {
      "name": "112_colab.ipynb",
      "provenance": [],
      "collapsed_sections": [],
      "include_colab_link": true
    },
    "kernelspec": {
      "name": "python3",
      "display_name": "Python 3"
    },
    "language_info": {
      "name": "python"
    }
  },
  "cells": [
    {
      "cell_type": "markdown",
      "metadata": {
        "id": "view-in-github",
        "colab_type": "text"
      },
      "source": [
        "<a href=\"https://colab.research.google.com/github/mfoxio/Python-HW/blob/main/112_colab.ipynb\" target=\"_parent\"><img src=\"https://colab.research.google.com/assets/colab-badge.svg\" alt=\"Open In Colab\"/></a>"
      ]
    },
    {
      "cell_type": "markdown",
      "metadata": {
        "id": "87JfPMU3qepb"
      },
      "source": [
        "Номер билета, ФИО студента, номер группы "
      ]
    },
    {
      "cell_type": "markdown",
      "metadata": {
        "id": "ZQodsYBoqq7T"
      },
      "source": [
        "Задача 1. \n",
        "Пример описания"
      ]
    },
    {
      "cell_type": "code",
      "metadata": {
        "id": "9ZGVY0L2qpTW",
        "colab": {
          "base_uri": "https://localhost:8080/"
        },
        "outputId": "ee89fc56-cc20-47ce-bd7b-ec61f7b8e01e"
      },
      "source": [
        "#23\n",
        "S = [1,2,3,4,5,6,7,8,9,0]\n",
        "sum = 0\n",
        "for i in range (len(S)):\n",
        "  sum+=S[i]\n",
        "print(sum)"
      ],
      "execution_count": 4,
      "outputs": [
        {
          "output_type": "stream",
          "name": "stdout",
          "text": [
            "45\n"
          ]
        }
      ]
    },
    {
      "cell_type": "code",
      "source": [
        "#28\n",
        "S = [1, 0, 1, 0, 1, 0, 1, 0, 1, 0]\n",
        "k = 0\n",
        "for i in range (len(S)):\n",
        "  if S[i]==0:\n",
        "    k+=1\n",
        "print(k)"
      ],
      "metadata": {
        "colab": {
          "base_uri": "https://localhost:8080/"
        },
        "id": "9xm4QP5UyeW2",
        "outputId": "c42c7f7d-3d37-4fcb-c7d4-31cc9065c7e6"
      },
      "execution_count": 5,
      "outputs": [
        {
          "output_type": "stream",
          "name": "stdout",
          "text": [
            "5\n"
          ]
        }
      ]
    },
    {
      "cell_type": "code",
      "source": [
        "#34\n",
        "n = int(input())\n",
        "k=2\n",
        "for i in range (2,n//2+1):\n",
        "  if n%i == 0:\n",
        "    k+=1\n",
        "print(k)"
      ],
      "metadata": {
        "colab": {
          "base_uri": "https://localhost:8080/"
        },
        "id": "9FdWe0432JLD",
        "outputId": "2b313357-84b0-4a3b-b15e-3940efd8431d"
      },
      "execution_count": 6,
      "outputs": [
        {
          "output_type": "stream",
          "name": "stdout",
          "text": [
            "17\n",
            "2\n"
          ]
        }
      ]
    },
    {
      "cell_type": "code",
      "source": [
        "#35\n",
        "n = int(input())\n",
        "m = int(input())\n",
        "print(n**m)\n"
      ],
      "metadata": {
        "colab": {
          "base_uri": "https://localhost:8080/"
        },
        "id": "gT-Hkdj52JRn",
        "outputId": "165e61df-7e39-495e-976c-696b170ffac1"
      },
      "execution_count": 7,
      "outputs": [
        {
          "output_type": "stream",
          "name": "stdout",
          "text": [
            "2\n",
            "5\n",
            "32\n"
          ]
        }
      ]
    },
    {
      "cell_type": "code",
      "source": [
        "#37\n",
        "n = int(input())\n",
        "sum = 0\n",
        "while n > 0:\n",
        "  sum += n%10\n",
        "  n = n//10\n",
        "\n",
        "print(sum)"
      ],
      "metadata": {
        "colab": {
          "base_uri": "https://localhost:8080/"
        },
        "id": "rgFpV8Z8DCz2",
        "outputId": "7e7b87fb-7e3e-43ab-bdd4-eb1cef353a5a"
      },
      "execution_count": 12,
      "outputs": [
        {
          "output_type": "stream",
          "name": "stdout",
          "text": [
            "113\n",
            "5\n"
          ]
        }
      ]
    },
    {
      "cell_type": "code",
      "source": [
        "#Задание 36\n",
        "n = int(input())\n",
        "fac = 1\n",
        "for i in range (1,n):\n",
        "  n = n *i\n",
        "  fac = n\n",
        "  print(fac)\n"
      ],
      "metadata": {
        "colab": {
          "base_uri": "https://localhost:8080/"
        },
        "id": "HFeNsC9nDC-v",
        "outputId": "2935ddda-1ba0-4fd1-f567-5188e8e3a41d"
      },
      "execution_count": 6,
      "outputs": [
        {
          "output_type": "stream",
          "name": "stdout",
          "text": [
            "4\n",
            "4\n",
            "8\n",
            "24\n"
          ]
        }
      ]
    },
    {
      "cell_type": "code",
      "source": [
        "#38\n",
        "n = int(input())\n",
        "pr = 1\n",
        "while n != 0:\n",
        "  pr = pr * (n%10)\n",
        "  n = n//10\n",
        "  print(pr)"
      ],
      "metadata": {
        "colab": {
          "base_uri": "https://localhost:8080/"
        },
        "id": "RKnNTStcoftc",
        "outputId": "60aa2c50-af4e-4153-8e67-a39be6eea9e6"
      },
      "execution_count": 18,
      "outputs": [
        {
          "output_type": "stream",
          "name": "stdout",
          "text": [
            "333\n",
            "3\n",
            "9\n",
            "27\n"
          ]
        }
      ]
    },
    {
      "cell_type": "code",
      "source": [
        "#42\n",
        "a, b = 6 , 14\n",
        "i = min(a, b)\n",
        "while True:\n",
        "    if i%a==0 and i%b==0:\n",
        "        break\n",
        "    i += 1\n",
        "print(i)"
      ],
      "metadata": {
        "colab": {
          "base_uri": "https://localhost:8080/"
        },
        "id": "54HND0A-of71",
        "outputId": "dece2cd0-aa5c-4a6f-e15e-576f993f2cc4"
      },
      "execution_count": 20,
      "outputs": [
        {
          "output_type": "stream",
          "name": "stdout",
          "text": [
            "42\n"
          ]
        }
      ]
    },
    {
      "cell_type": "code",
      "source": [
        "#41\n",
        "a, b = 100, 55\n",
        "i = max(a, b)\n",
        "while True:\n",
        "    if a%i==0 and b%i==0:\n",
        "        break\n",
        "    i -= 1\n",
        "print(i)"
      ],
      "metadata": {
        "colab": {
          "base_uri": "https://localhost:8080/"
        },
        "id": "Nku7grVXy8T-",
        "outputId": "32aac757-c7f5-4e55-d1f0-c5df656aa0c0"
      },
      "execution_count": 24,
      "outputs": [
        {
          "output_type": "stream",
          "name": "stdout",
          "text": [
            "5\n"
          ]
        }
      ]
    },
    {
      "cell_type": "code",
      "source": [
        "#43\n",
        "a = int(input())\n",
        "b = int(input())\n",
        "n = min(a,b)\n",
        "for i in range (1,n+1):\n",
        "  if a%i==0 and b%i==0:\n",
        "    k=i\n",
        "print(k)"
      ],
      "metadata": {
        "colab": {
          "base_uri": "https://localhost:8080/"
        },
        "id": "dZe3Sw3q2de3",
        "outputId": "1dcb35c9-d54a-4ed7-ed6d-3cb93fa87dd9"
      },
      "execution_count": 27,
      "outputs": [
        {
          "output_type": "stream",
          "name": "stdout",
          "text": [
            "35\n",
            "25\n",
            "5\n"
          ]
        }
      ]
    },
    {
      "cell_type": "code",
      "source": [
        "#45\n",
        "sp = ['a','b','a','b','f','g']\n",
        "sp.sort()\n",
        "print(sp)\n",
        "k = 1\n",
        "for i in range(len(sp)-1):\n",
        "  if sp[i]!=sp[i+1]:\n",
        "    k+= 1\n",
        "print(k)\n"
      ],
      "metadata": {
        "colab": {
          "base_uri": "https://localhost:8080/"
        },
        "id": "tD-SUvT05K_y",
        "outputId": "30ccb61e-aeb7-479e-d98d-a498cbda80f0"
      },
      "execution_count": 40,
      "outputs": [
        {
          "output_type": "stream",
          "name": "stdout",
          "text": [
            "['a', 'a', 'b', 'b', 'f', 'g']\n",
            "4\n"
          ]
        }
      ]
    },
    {
      "cell_type": "code",
      "source": [
        "#46\n",
        "sp = ['a','b','a','b','f','g']\n",
        "sp.sort()\n",
        "print(sp)\n",
        "k = 1\n",
        "s = []\n",
        "s.append(sp[0])\n",
        "for i in range(len(sp)-1):\n",
        "  if sp[i]!=sp[i+1]:\n",
        "    s.append(sp[i+1])\n",
        "print(s)"
      ],
      "metadata": {
        "colab": {
          "base_uri": "https://localhost:8080/"
        },
        "id": "ye0q1Bko71Fa",
        "outputId": "d3c877f8-4b42-49b7-8b7a-c01ec0af65b4"
      },
      "execution_count": 51,
      "outputs": [
        {
          "output_type": "stream",
          "name": "stdout",
          "text": [
            "['a', 'a', 'b', 'b', 'f', 'g']\n",
            "['a', 'b', 'f', 'g']\n"
          ]
        }
      ]
    },
    {
      "cell_type": "code",
      "source": [
        ""
      ],
      "metadata": {
        "id": "l7aRbjLg71Jx"
      },
      "execution_count": null,
      "outputs": []
    },
    {
      "cell_type": "code",
      "source": [
        ""
      ],
      "metadata": {
        "id": "1U0wwLmO71RR"
      },
      "execution_count": null,
      "outputs": []
    },
    {
      "cell_type": "markdown",
      "metadata": {
        "id": "LMWu2wo3q1jn"
      },
      "source": [
        "Задача 2. Пример описания"
      ]
    },
    {
      "cell_type": "code",
      "metadata": {
        "id": "ZBLJNsalqvoM"
      },
      "source": [
        "# Код писать тут"
      ],
      "execution_count": null,
      "outputs": []
    },
    {
      "cell_type": "code",
      "metadata": {
        "id": "ZqoufEKVq3_T"
      },
      "source": [
        ""
      ],
      "execution_count": null,
      "outputs": []
    }
  ]
}