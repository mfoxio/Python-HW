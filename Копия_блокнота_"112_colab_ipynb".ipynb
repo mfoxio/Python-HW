{
  "nbformat": 4,
  "nbformat_minor": 0,
  "metadata": {
    "colab": {
      "name": "Копия блокнота \"112_colab.ipynb\"",
      "provenance": [],
      "collapsed_sections": [],
      "include_colab_link": true
    },
    "kernelspec": {
      "name": "python3",
      "display_name": "Python 3"
    },
    "language_info": {
      "name": "python"
    }
  },
  "cells": [
    {
      "cell_type": "markdown",
      "metadata": {
        "id": "view-in-github",
        "colab_type": "text"
      },
      "source": [
        "<a href=\"https://colab.research.google.com/github/mfoxio/Python-HW/blob/main/%D0%9A%D0%BE%D0%BF%D0%B8%D1%8F_%D0%B1%D0%BB%D0%BE%D0%BA%D0%BD%D0%BE%D1%82%D0%B0_%22112_colab_ipynb%22.ipynb\" target=\"_parent\"><img src=\"https://colab.research.google.com/assets/colab-badge.svg\" alt=\"Open In Colab\"/></a>"
      ]
    },
    {
      "cell_type": "markdown",
      "metadata": {
        "id": "87JfPMU3qepb"
      },
      "source": [
        "Номер билета, ФИО студента, номер группы "
      ]
    },
    {
      "cell_type": "markdown",
      "metadata": {
        "id": "ZQodsYBoqq7T"
      },
      "source": [
        "Задача 1. \n",
        "Пример описания"
      ]
    },
    {
      "cell_type": "code",
      "metadata": {
        "id": "9ZGVY0L2qpTW",
        "outputId": "ee89fc56-cc20-47ce-bd7b-ec61f7b8e01e",
        "colab": {
          "base_uri": "https://localhost:8080/"
        }
      },
      "source": [
        "#23\n",
        "S = [1,2,3,4,5,6,7,8,9,0]\n",
        "sum = 0\n",
        "for i in range (len(S)):\n",
        "  sum+=S[i]\n",
        "print(sum)"
      ],
      "execution_count": null,
      "outputs": [
        {
          "output_type": "stream",
          "name": "stdout",
          "text": [
            "45\n"
          ]
        }
      ]
    },
    {
      "cell_type": "code",
      "source": [
        "#28\n",
        "S = [1, 0, 1, 0, 1, 0, 1, 0, 1, 0]\n",
        "k = 0\n",
        "for i in range (len(S)):\n",
        "  if S[i]==0:\n",
        "    k+=1\n",
        "print(k)"
      ],
      "metadata": {
        "id": "9xm4QP5UyeW2",
        "outputId": "c42c7f7d-3d37-4fcb-c7d4-31cc9065c7e6",
        "colab": {
          "base_uri": "https://localhost:8080/"
        }
      },
      "execution_count": null,
      "outputs": [
        {
          "output_type": "stream",
          "name": "stdout",
          "text": [
            "5\n"
          ]
        }
      ]
    },
    {
      "cell_type": "code",
      "source": [
        "#34\n",
        "n = int(input())\n",
        "k=2\n",
        "for i in range (2,n//2+1):\n",
        "  if n%i == 0:\n",
        "    k+=1\n",
        "print(k)"
      ],
      "metadata": {
        "id": "9FdWe0432JLD",
        "outputId": "2b313357-84b0-4a3b-b15e-3940efd8431d",
        "colab": {
          "base_uri": "https://localhost:8080/"
        }
      },
      "execution_count": null,
      "outputs": [
        {
          "output_type": "stream",
          "name": "stdout",
          "text": [
            "17\n",
            "2\n"
          ]
        }
      ]
    },
    {
      "cell_type": "code",
      "source": [
        "#35\n",
        "n = int(input())\n",
        "m = int(input())\n",
        "print(n**m)\n"
      ],
      "metadata": {
        "id": "gT-Hkdj52JRn",
        "outputId": "165e61df-7e39-495e-976c-696b170ffac1",
        "colab": {
          "base_uri": "https://localhost:8080/"
        }
      },
      "execution_count": null,
      "outputs": [
        {
          "output_type": "stream",
          "name": "stdout",
          "text": [
            "2\n",
            "5\n",
            "32\n"
          ]
        }
      ]
    },
    {
      "cell_type": "code",
      "source": [
        "#37\n",
        "n = int(input())\n",
        "sum = 0\n",
        "while n > 0:\n",
        "  sum += n%10\n",
        "  n = n//10\n",
        "\n",
        "print(sum)"
      ],
      "metadata": {
        "id": "rgFpV8Z8DCz2",
        "outputId": "7e7b87fb-7e3e-43ab-bdd4-eb1cef353a5a",
        "colab": {
          "base_uri": "https://localhost:8080/"
        }
      },
      "execution_count": null,
      "outputs": [
        {
          "output_type": "stream",
          "name": "stdout",
          "text": [
            "113\n",
            "5\n"
          ]
        }
      ]
    },
    {
      "cell_type": "code",
      "source": [
        "#Задание 36\n",
        "n = int(input())\n",
        "fac = 1\n",
        "for i in range (1,n):\n",
        "  n = n *i\n",
        "  fac = n\n",
        "  print(fac)\n"
      ],
      "metadata": {
        "id": "HFeNsC9nDC-v",
        "outputId": "2935ddda-1ba0-4fd1-f567-5188e8e3a41d",
        "colab": {
          "base_uri": "https://localhost:8080/"
        }
      },
      "execution_count": null,
      "outputs": [
        {
          "output_type": "stream",
          "name": "stdout",
          "text": [
            "4\n",
            "4\n",
            "8\n",
            "24\n"
          ]
        }
      ]
    },
    {
      "cell_type": "code",
      "source": [
        "#38\n",
        "n = int(input())\n",
        "pr = 1\n",
        "while n != 0:\n",
        "  pr = pr * (n%10)\n",
        "  n = n//10\n",
        "  print(pr)"
      ],
      "metadata": {
        "id": "RKnNTStcoftc",
        "outputId": "60aa2c50-af4e-4153-8e67-a39be6eea9e6",
        "colab": {
          "base_uri": "https://localhost:8080/"
        }
      },
      "execution_count": null,
      "outputs": [
        {
          "output_type": "stream",
          "name": "stdout",
          "text": [
            "333\n",
            "3\n",
            "9\n",
            "27\n"
          ]
        }
      ]
    },
    {
      "cell_type": "code",
      "source": [
        "#42\n",
        "a, b = 6 , 14\n",
        "i = min(a, b)\n",
        "while True:\n",
        "    if i%a==0 and i%b==0:\n",
        "        break\n",
        "    i += 1\n",
        "print(i)"
      ],
      "metadata": {
        "id": "54HND0A-of71",
        "outputId": "dece2cd0-aa5c-4a6f-e15e-576f993f2cc4",
        "colab": {
          "base_uri": "https://localhost:8080/"
        }
      },
      "execution_count": null,
      "outputs": [
        {
          "output_type": "stream",
          "name": "stdout",
          "text": [
            "42\n"
          ]
        }
      ]
    },
    {
      "cell_type": "code",
      "source": [
        "#41\n",
        "a, b = 100, 55\n",
        "i = max(a, b)\n",
        "while True:\n",
        "    if a%i==0 and b%i==0:\n",
        "        break\n",
        "    i -= 1\n",
        "print(i)"
      ],
      "metadata": {
        "id": "Nku7grVXy8T-",
        "outputId": "32aac757-c7f5-4e55-d1f0-c5df656aa0c0",
        "colab": {
          "base_uri": "https://localhost:8080/"
        }
      },
      "execution_count": null,
      "outputs": [
        {
          "output_type": "stream",
          "name": "stdout",
          "text": [
            "5\n"
          ]
        }
      ]
    },
    {
      "cell_type": "code",
      "source": [
        "#43\n",
        "a = int(input())\n",
        "b = int(input())\n",
        "n = min(a,b)\n",
        "for i in range (1,n+1):\n",
        "  if a%i==0 and b%i==0:\n",
        "    k=i\n",
        "print(k)"
      ],
      "metadata": {
        "id": "dZe3Sw3q2de3",
        "outputId": "1dcb35c9-d54a-4ed7-ed6d-3cb93fa87dd9",
        "colab": {
          "base_uri": "https://localhost:8080/"
        }
      },
      "execution_count": null,
      "outputs": [
        {
          "output_type": "stream",
          "name": "stdout",
          "text": [
            "35\n",
            "25\n",
            "5\n"
          ]
        }
      ]
    },
    {
      "cell_type": "code",
      "source": [
        "#45\n",
        "sp = ['a','b','a','b','f','g']\n",
        "sp.sort()\n",
        "print(sp)\n",
        "k = 1\n",
        "for i in range(len(sp)-1):\n",
        "  if sp[i]!=sp[i+1]:\n",
        "    k+= 1\n",
        "print(k)\n"
      ],
      "metadata": {
        "id": "tD-SUvT05K_y",
        "outputId": "30ccb61e-aeb7-479e-d98d-a498cbda80f0",
        "colab": {
          "base_uri": "https://localhost:8080/"
        }
      },
      "execution_count": null,
      "outputs": [
        {
          "output_type": "stream",
          "name": "stdout",
          "text": [
            "['a', 'a', 'b', 'b', 'f', 'g']\n",
            "4\n"
          ]
        }
      ]
    },
    {
      "cell_type": "code",
      "source": [
        "#46\n",
        "sp = ['a','b','a','b','f','g']\n",
        "sp.sort()\n",
        "print(sp)\n",
        "k = 1\n",
        "s = []\n",
        "s.append(sp[0])\n",
        "for i in range(len(sp)-1):\n",
        "  if sp[i]!=sp[i+1]:\n",
        "    s.append(sp[i+1])\n",
        "print(s)"
      ],
      "metadata": {
        "id": "ye0q1Bko71Fa",
        "outputId": "f9ef8717-f18b-4e58-9588-54f209c734f7",
        "colab": {
          "base_uri": "https://localhost:8080/"
        }
      },
      "execution_count": 4,
      "outputs": [
        {
          "output_type": "stream",
          "name": "stdout",
          "text": [
            "['a', 'a', 'b', 'b', 'f', 'g']\n",
            "['a', 'b', 'f', 'g']\n"
          ]
        }
      ]
    },
    {
      "cell_type": "code",
      "source": [
        "#47\n",
        "#s = ['a','b','b','a','f']\n",
        "#sp = list(s)\n",
        "#sp.reverse()\n",
        "#k = 0\n",
        "#print(sp)\n",
        "#for i in range(len(s)):\n",
        "  #if s[i] == sp[i]:\n",
        "    #k+=0\n",
        "  #else:\n",
        "    #k+=1\n",
        "#print(k)\n",
        "def palindrom(s):\n",
        "  s = ['a','b','b','a','f']\n",
        "  reverse_s = s[::-1]\n",
        "  if reverse_s == s and len(s)>1:\n",
        "    return(s)\n",
        "\n"
      ],
      "metadata": {
        "id": "l7aRbjLg71Jx"
      },
      "execution_count": 10,
      "outputs": []
    },
    {
      "cell_type": "code",
      "source": [
        "#54 55\n",
        "s = 'asNGDdFdfFarOq'\n",
        "print(s.upper())\n",
        "print(s.lower())\n",
        "\n"
      ],
      "metadata": {
        "colab": {
          "base_uri": "https://localhost:8080/"
        },
        "id": "Rh0MdaUpXxEs",
        "outputId": "7211d399-75b7-4a76-cda1-c2b1073a341c"
      },
      "execution_count": 11,
      "outputs": [
        {
          "output_type": "stream",
          "name": "stdout",
          "text": [
            "ASNGDDFDFFAROQ\n",
            "asngddfdffaroq\n"
          ]
        }
      ]
    },
    {
      "cell_type": "code",
      "source": [
        "sp=[1, 2, 3]\n",
        "s=[4, 5, 6]\n",
        "A = []\n",
        "for i in range(len(sp)):\n",
        "  A.append([])\n",
        "  for j in range(len(s)):\n",
        "    A[i].append(sp[i]*s[j])\n",
        "print(A)\n"
      ],
      "metadata": {
        "id": "1U0wwLmO71RR",
        "colab": {
          "base_uri": "https://localhost:8080/"
        },
        "outputId": "633cfa56-5cad-4c8b-d092-a6aea0952267"
      },
      "execution_count": 19,
      "outputs": [
        {
          "output_type": "stream",
          "name": "stdout",
          "text": [
            "[[4, 5, 6], [8, 10, 12], [12, 15, 18]]\n"
          ]
        }
      ]
    },
    {
      "cell_type": "code",
      "source": [
        "#61\n",
        "sp = [20,10,15,20]\n",
        "s = [13,14,20]\n",
        "A = []\n",
        "for i in range (len(sp)):\n",
        "  A.append([])\n",
        "  for j in range(len(s)):\n",
        "    if sp[i]>s[j]:\n",
        "      A[i].append('1')\n",
        "    if sp[i]<sp[j]:\n",
        "      A[i].append('2')\n",
        "    if sp[i] == s[j]:\n",
        "      A[i].append('=')\n",
        "  print(A[i])"
      ],
      "metadata": {
        "colab": {
          "base_uri": "https://localhost:8080/"
        },
        "id": "JDSvpj1V-SYC",
        "outputId": "f9ecfa15-1ea6-4635-ad1b-0ced2fe454ed"
      },
      "execution_count": 21,
      "outputs": [
        {
          "output_type": "stream",
          "name": "stdout",
          "text": [
            "['1', '1', '=']\n",
            "['2', '2']\n",
            "['1', '2', '1']\n",
            "['1', '1', '=']\n"
          ]
        }
      ]
    },
    {
      "cell_type": "code",
      "source": [
        "#sp = [20,10,15,20]\n",
        "sp.insert(1,25)\n",
        "sp.pop(2)\n",
        "print(sp)"
      ],
      "metadata": {
        "colab": {
          "base_uri": "https://localhost:8080/"
        },
        "id": "lft-xH97ROEi",
        "outputId": "c10a5585-6c4d-4adc-db02-77d8c517fb4a"
      },
      "execution_count": 26,
      "outputs": [
        {
          "output_type": "stream",
          "name": "stdout",
          "text": [
            "[20, 25, 15, 20]\n"
          ]
        }
      ]
    },
    {
      "cell_type": "code",
      "source": [
        "s = 'aadbaf'\n",
        "print(f'sp = {s.split()}')\n",
        "sp.insert(1,'d')\n",
        "sp.pop(2)\n",
        "print(sp)"
      ],
      "metadata": {
        "colab": {
          "base_uri": "https://localhost:8080/",
          "height": 262
        },
        "id": "L7YEaoblUITG",
        "outputId": "37e695c7-2d27-47b1-d219-c6c0bb60b1fa"
      },
      "execution_count": 38,
      "outputs": [
        {
          "output_type": "stream",
          "name": "stdout",
          "text": [
            "sp = ['aadbaf']\n"
          ]
        },
        {
          "output_type": "error",
          "ename": "AttributeError",
          "evalue": "ignored",
          "traceback": [
            "\u001b[0;31m---------------------------------------------------------------------------\u001b[0m",
            "\u001b[0;31mAttributeError\u001b[0m                            Traceback (most recent call last)",
            "\u001b[0;32m<ipython-input-38-c6a145e69d76>\u001b[0m in \u001b[0;36m<module>\u001b[0;34m()\u001b[0m\n\u001b[1;32m      1\u001b[0m \u001b[0ms\u001b[0m \u001b[0;34m=\u001b[0m \u001b[0;34m'aadbaf'\u001b[0m\u001b[0;34m\u001b[0m\u001b[0;34m\u001b[0m\u001b[0m\n\u001b[1;32m      2\u001b[0m \u001b[0mprint\u001b[0m\u001b[0;34m(\u001b[0m\u001b[0;34mf'sp = {s.split()}'\u001b[0m\u001b[0;34m)\u001b[0m\u001b[0;34m\u001b[0m\u001b[0;34m\u001b[0m\u001b[0m\n\u001b[0;32m----> 3\u001b[0;31m \u001b[0ms\u001b[0m\u001b[0;34m.\u001b[0m\u001b[0minsert\u001b[0m\u001b[0;34m(\u001b[0m\u001b[0;36m1\u001b[0m\u001b[0;34m,\u001b[0m\u001b[0;34m'd'\u001b[0m\u001b[0;34m)\u001b[0m\u001b[0;34m\u001b[0m\u001b[0;34m\u001b[0m\u001b[0m\n\u001b[0m\u001b[1;32m      4\u001b[0m \u001b[0ms\u001b[0m\u001b[0;34m.\u001b[0m\u001b[0mpop\u001b[0m\u001b[0;34m(\u001b[0m\u001b[0;36m2\u001b[0m\u001b[0;34m)\u001b[0m\u001b[0;34m\u001b[0m\u001b[0;34m\u001b[0m\u001b[0m\n\u001b[1;32m      5\u001b[0m \u001b[0mprint\u001b[0m\u001b[0;34m(\u001b[0m\u001b[0msp\u001b[0m\u001b[0;34m)\u001b[0m\u001b[0;34m\u001b[0m\u001b[0;34m\u001b[0m\u001b[0m\n",
            "\u001b[0;31mAttributeError\u001b[0m: 'str' object has no attribute 'insert'"
          ]
        }
      ]
    },
    {
      "cell_type": "markdown",
      "metadata": {
        "id": "LMWu2wo3q1jn"
      },
      "source": [
        "Задача 2. Пример описания"
      ]
    },
    {
      "cell_type": "code",
      "metadata": {
        "id": "ZBLJNsalqvoM"
      },
      "source": [
        "# Код писать тут"
      ],
      "execution_count": null,
      "outputs": []
    },
    {
      "cell_type": "code",
      "metadata": {
        "id": "ZqoufEKVq3_T"
      },
      "source": [
        ""
      ],
      "execution_count": null,
      "outputs": []
    }
  ]
}